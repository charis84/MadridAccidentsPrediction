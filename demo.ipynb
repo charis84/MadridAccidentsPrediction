{
  "nbformat": 4,
  "nbformat_minor": 0,
  "metadata": {
    "colab": {
      "name": "demo.ipynb",
      "provenance": [],
      "collapsed_sections": []
    },
    "kernelspec": {
      "name": "python3",
      "display_name": "Python 3"
    },
    "accelerator": "TPU"
  },
  "cells": [
    {
      "cell_type": "markdown",
      "metadata": {
        "id": "1AjQik6ynK_5",
        "colab_type": "text"
      },
      "source": [
        "Add pandas package for tabular data"
      ]
    },
    {
      "cell_type": "code",
      "metadata": {
        "id": "VfLkYmlDRMp9",
        "colab_type": "code",
        "colab": {}
      },
      "source": [
        "import pandas as pd"
      ],
      "execution_count": 0,
      "outputs": []
    },
    {
      "cell_type": "markdown",
      "metadata": {
        "id": "kGTOh8PZmS-H",
        "colab_type": "text"
      },
      "source": [
        "Package to load data saved by the pre-processing phase."
      ]
    },
    {
      "cell_type": "code",
      "metadata": {
        "id": "EvYjSr1THMqW",
        "colab_type": "code",
        "colab": {}
      },
      "source": [
        "import pickle"
      ],
      "execution_count": 0,
      "outputs": []
    },
    {
      "cell_type": "code",
      "metadata": {
        "id": "zXOvATNkMw7n",
        "colab_type": "code",
        "outputId": "3fc4a3c0-1128-4e4d-e93b-201485d9b21e",
        "colab": {
          "base_uri": "https://localhost:8080/",
          "height": 85
        }
      },
      "source": [
        "!git clone https://github.com/wshuyi/demo_traffic_jam_prediction.git"
      ],
      "execution_count": 0,
      "outputs": [
        {
          "output_type": "stream",
          "text": [
            "Cloning into 'demo_traffic_jam_prediction'...\n",
            "remote: Enumerating objects: 9, done.\u001b[K\n",
            "Unpacking objects:  11% (1/9)   \rUnpacking objects:  22% (2/9)   \rUnpacking objects:  33% (3/9)   \rUnpacking objects:  44% (4/9)   \rremote: Total 9 (delta 0), reused 0 (delta 0), pack-reused 9\n",
            "Unpacking objects:  55% (5/9)   \rUnpacking objects:  66% (6/9)   \rUnpacking objects:  77% (7/9)   \rUnpacking objects:  88% (8/9)   \rUnpacking objects: 100% (9/9)   \rUnpacking objects: 100% (9/9), done.\n"
          ],
          "name": "stdout"
        }
      ]
    },
    {
      "cell_type": "markdown",
      "metadata": {
        "id": "V5LELt1EnO3p",
        "colab_type": "text"
      },
      "source": [
        "Path of data folder."
      ]
    },
    {
      "cell_type": "code",
      "metadata": {
        "id": "96aIaqhpM0b3",
        "colab_type": "code",
        "colab": {}
      },
      "source": [
        "from pathlib import Path\n",
        "data_dir = Path('demo_traffic_jam_prediction')"
      ],
      "execution_count": 0,
      "outputs": []
    },
    {
      "cell_type": "markdown",
      "metadata": {
        "id": "tVIneXQUnbvB",
        "colab_type": "text"
      },
      "source": [
        "Open data file and load two different data variables."
      ]
    },
    {
      "cell_type": "code",
      "metadata": {
        "id": "Y2XkvZrYHPnS",
        "colab_type": "code",
        "colab": {}
      },
      "source": [
        "with open(data_dir / 'data.pickle', 'rb') as f:\n",
        "    [event_dict, df] = pickle.load(f)"
      ],
      "execution_count": 0,
      "outputs": []
    },
    {
      "cell_type": "markdown",
      "metadata": {
        "id": "rknzzqbxnihW",
        "colab_type": "text"
      },
      "source": [
        "Dictionary of events."
      ]
    },
    {
      "cell_type": "code",
      "metadata": {
        "id": "uIfsslVMHWNc",
        "colab_type": "code",
        "outputId": "03957e0d-31f1-47da-b4ec-b0c32441a9a6",
        "colab": {
          "base_uri": "https://localhost:8080/",
          "height": 561
        }
      },
      "source": [
        "event_dict"
      ],
      "execution_count": 0,
      "outputs": [
        {
          "output_type": "execute_result",
          "data": {
            "text/plain": [
              "{1: 'road closed due to construction',\n",
              " 2: 'traffic jam',\n",
              " 3: 'stopped car on the shoulder',\n",
              " 4: 'road closed',\n",
              " 5: 'other',\n",
              " 6: 'object on roadway',\n",
              " 7: 'major event',\n",
              " 8: 'pothole',\n",
              " 9: 'traffic heavier than normal',\n",
              " 10: 'road construction',\n",
              " 11: 'fog',\n",
              " 12: 'accident',\n",
              " 13: 'slowdown',\n",
              " 14: 'stopped car',\n",
              " 15: 'small traffic jam',\n",
              " 16: 'stopped traffic',\n",
              " 17: 'heavy traffic',\n",
              " 18: 'minor accident',\n",
              " 19: 'medium traffic jam',\n",
              " 20: 'malfunctioning traffic light',\n",
              " 21: 'missing sign on the shoulder',\n",
              " 22: 'animal on the shoulder',\n",
              " 23: 'animal struck',\n",
              " 24: 'large traffic jam',\n",
              " 25: 'hazard on the shoulder',\n",
              " 26: 'hazard on road',\n",
              " 27: 'ice on roadway',\n",
              " 28: 'weather hazard',\n",
              " 29: 'flooding',\n",
              " 30: 'road closed due to hazard',\n",
              " 31: 'hail',\n",
              " 32: 'huge traffic jam'}"
            ]
          },
          "metadata": {
            "tags": []
          },
          "execution_count": 6
        }
      ]
    },
    {
      "cell_type": "markdown",
      "metadata": {
        "id": "f8a3SDspntrL",
        "colab_type": "text"
      },
      "source": [
        "Inside the Dataframe:"
      ]
    },
    {
      "cell_type": "markdown",
      "metadata": {
        "id": "at5NrZIBn3pR",
        "colab_type": "text"
      },
      "source": [
        "First 10 rows:"
      ]
    },
    {
      "cell_type": "code",
      "metadata": {
        "id": "1gkMaCEkRr-u",
        "colab_type": "code",
        "outputId": "89d73b40-3623-4e58-e36d-9753ae712cfb",
        "colab": {
          "base_uri": "https://localhost:8080/",
          "height": 359
        }
      },
      "source": [
        "df.head(10)"
      ],
      "execution_count": 0,
      "outputs": [
        {
          "output_type": "execute_result",
          "data": {
            "text/html": [
              "<div>\n",
              "<style scoped>\n",
              "    .dataframe tbody tr th:only-of-type {\n",
              "        vertical-align: middle;\n",
              "    }\n",
              "\n",
              "    .dataframe tbody tr th {\n",
              "        vertical-align: top;\n",
              "    }\n",
              "\n",
              "    .dataframe thead th {\n",
              "        text-align: right;\n",
              "    }\n",
              "</style>\n",
              "<table border=\"1\" class=\"dataframe\">\n",
              "  <thead>\n",
              "    <tr style=\"text-align: right;\">\n",
              "      <th></th>\n",
              "      <th>label</th>\n",
              "      <th>events</th>\n",
              "    </tr>\n",
              "  </thead>\n",
              "  <tbody>\n",
              "    <tr>\n",
              "      <th>0</th>\n",
              "      <td>1</td>\n",
              "      <td>[traffic heavier than normal, heavy traffic, m...</td>\n",
              "    </tr>\n",
              "    <tr>\n",
              "      <th>1</th>\n",
              "      <td>1</td>\n",
              "      <td>[traffic jam, road construction, stopped car o...</td>\n",
              "    </tr>\n",
              "    <tr>\n",
              "      <th>2</th>\n",
              "      <td>1</td>\n",
              "      <td>[traffic jam]</td>\n",
              "    </tr>\n",
              "    <tr>\n",
              "      <th>3</th>\n",
              "      <td>1</td>\n",
              "      <td>[traffic jam]</td>\n",
              "    </tr>\n",
              "    <tr>\n",
              "      <th>4</th>\n",
              "      <td>1</td>\n",
              "      <td>[traffic jam, traffic jam, traffic jam, traffi...</td>\n",
              "    </tr>\n",
              "    <tr>\n",
              "      <th>5</th>\n",
              "      <td>1</td>\n",
              "      <td>[stopped car on the shoulder, traffic jam, hea...</td>\n",
              "    </tr>\n",
              "    <tr>\n",
              "      <th>6</th>\n",
              "      <td>1</td>\n",
              "      <td>[stopped car on the shoulder, traffic jam, hea...</td>\n",
              "    </tr>\n",
              "    <tr>\n",
              "      <th>7</th>\n",
              "      <td>1</td>\n",
              "      <td>[traffic jam, small traffic jam, traffic jam, ...</td>\n",
              "    </tr>\n",
              "    <tr>\n",
              "      <th>8</th>\n",
              "      <td>1</td>\n",
              "      <td>[heavy traffic, traffic jam, traffic jam, stop...</td>\n",
              "    </tr>\n",
              "    <tr>\n",
              "      <th>9</th>\n",
              "      <td>1</td>\n",
              "      <td>[heavy traffic, traffic jam, traffic jam, stop...</td>\n",
              "    </tr>\n",
              "  </tbody>\n",
              "</table>\n",
              "</div>"
            ],
            "text/plain": [
              "   label                                             events\n",
              "0      1  [traffic heavier than normal, heavy traffic, m...\n",
              "1      1  [traffic jam, road construction, stopped car o...\n",
              "2      1                                      [traffic jam]\n",
              "3      1                                      [traffic jam]\n",
              "4      1  [traffic jam, traffic jam, traffic jam, traffi...\n",
              "5      1  [stopped car on the shoulder, traffic jam, hea...\n",
              "6      1  [stopped car on the shoulder, traffic jam, hea...\n",
              "7      1  [traffic jam, small traffic jam, traffic jam, ...\n",
              "8      1  [heavy traffic, traffic jam, traffic jam, stop...\n",
              "9      1  [heavy traffic, traffic jam, traffic jam, stop..."
            ]
          },
          "metadata": {
            "tags": []
          },
          "execution_count": 7
        }
      ]
    },
    {
      "cell_type": "markdown",
      "metadata": {
        "id": "Ij9EADKRn_h5",
        "colab_type": "text"
      },
      "source": [
        "Last 10 rows:"
      ]
    },
    {
      "cell_type": "code",
      "metadata": {
        "id": "cL1Ilf5r1DGs",
        "colab_type": "code",
        "outputId": "94fd0cf2-782d-495d-f36a-716ca9c87c10",
        "colab": {
          "base_uri": "https://localhost:8080/",
          "height": 359
        }
      },
      "source": [
        "df.tail(10)"
      ],
      "execution_count": 0,
      "outputs": [
        {
          "output_type": "execute_result",
          "data": {
            "text/html": [
              "<div>\n",
              "<style scoped>\n",
              "    .dataframe tbody tr th:only-of-type {\n",
              "        vertical-align: middle;\n",
              "    }\n",
              "\n",
              "    .dataframe tbody tr th {\n",
              "        vertical-align: top;\n",
              "    }\n",
              "\n",
              "    .dataframe thead th {\n",
              "        text-align: right;\n",
              "    }\n",
              "</style>\n",
              "<table border=\"1\" class=\"dataframe\">\n",
              "  <thead>\n",
              "    <tr style=\"text-align: right;\">\n",
              "      <th></th>\n",
              "      <th>label</th>\n",
              "      <th>events</th>\n",
              "    </tr>\n",
              "  </thead>\n",
              "  <tbody>\n",
              "    <tr>\n",
              "      <th>851</th>\n",
              "      <td>0</td>\n",
              "      <td>[traffic jam, traffic jam, traffic jam]</td>\n",
              "    </tr>\n",
              "    <tr>\n",
              "      <th>852</th>\n",
              "      <td>0</td>\n",
              "      <td>[stopped traffic, traffic jam, stopped traffic]</td>\n",
              "    </tr>\n",
              "    <tr>\n",
              "      <th>853</th>\n",
              "      <td>0</td>\n",
              "      <td>[stopped car on the shoulder, stopped traffic,...</td>\n",
              "    </tr>\n",
              "    <tr>\n",
              "      <th>854</th>\n",
              "      <td>0</td>\n",
              "      <td>[stopped traffic]</td>\n",
              "    </tr>\n",
              "    <tr>\n",
              "      <th>855</th>\n",
              "      <td>0</td>\n",
              "      <td>[stopped car on the shoulder, stopped car on t...</td>\n",
              "    </tr>\n",
              "    <tr>\n",
              "      <th>856</th>\n",
              "      <td>0</td>\n",
              "      <td>[heavy traffic, heavy traffic, heavy traffic, ...</td>\n",
              "    </tr>\n",
              "    <tr>\n",
              "      <th>857</th>\n",
              "      <td>0</td>\n",
              "      <td>[traffic jam, traffic jam]</td>\n",
              "    </tr>\n",
              "    <tr>\n",
              "      <th>858</th>\n",
              "      <td>0</td>\n",
              "      <td>[traffic jam, traffic jam, traffic heavier tha...</td>\n",
              "    </tr>\n",
              "    <tr>\n",
              "      <th>859</th>\n",
              "      <td>0</td>\n",
              "      <td>[heavy traffic, stopped car on the shoulder, t...</td>\n",
              "    </tr>\n",
              "    <tr>\n",
              "      <th>860</th>\n",
              "      <td>0</td>\n",
              "      <td>[heavy traffic, stopped car on the shoulder, s...</td>\n",
              "    </tr>\n",
              "  </tbody>\n",
              "</table>\n",
              "</div>"
            ],
            "text/plain": [
              "     label                                             events\n",
              "851      0            [traffic jam, traffic jam, traffic jam]\n",
              "852      0    [stopped traffic, traffic jam, stopped traffic]\n",
              "853      0  [stopped car on the shoulder, stopped traffic,...\n",
              "854      0                                  [stopped traffic]\n",
              "855      0  [stopped car on the shoulder, stopped car on t...\n",
              "856      0  [heavy traffic, heavy traffic, heavy traffic, ...\n",
              "857      0                         [traffic jam, traffic jam]\n",
              "858      0  [traffic jam, traffic jam, traffic heavier tha...\n",
              "859      0  [heavy traffic, stopped car on the shoulder, t...\n",
              "860      0  [heavy traffic, stopped car on the shoulder, s..."
            ]
          },
          "metadata": {
            "tags": []
          },
          "execution_count": 8
        }
      ]
    },
    {
      "cell_type": "markdown",
      "metadata": {
        "id": "BgdpTfIuoMZI",
        "colab_type": "text"
      },
      "source": [
        "Get index with the largest value:"
      ]
    },
    {
      "cell_type": "code",
      "metadata": {
        "id": "gYGxx2EwyShi",
        "colab_type": "code",
        "outputId": "27d91db6-8ea8-494f-afb7-5b636a16a256",
        "colab": {
          "base_uri": "https://localhost:8080/",
          "height": 34
        }
      },
      "source": [
        "max_len_event_id = df.events.apply(len).idxmax()\n",
        "max_len_event_id"
      ],
      "execution_count": 0,
      "outputs": [
        {
          "output_type": "execute_result",
          "data": {
            "text/plain": [
              "105"
            ]
          },
          "metadata": {
            "tags": []
          },
          "execution_count": 9
        }
      ]
    },
    {
      "cell_type": "markdown",
      "metadata": {
        "id": "74z0G412oTjH",
        "colab_type": "text"
      },
      "source": [
        "Sequence of row with the largest value:"
      ]
    },
    {
      "cell_type": "code",
      "metadata": {
        "id": "fdtdsYxfHaIf",
        "colab_type": "code",
        "outputId": "ea678afe-3151-4007-904d-9477a4c2666f",
        "colab": {
          "base_uri": "https://localhost:8080/",
          "height": 1000
        }
      },
      "source": [
        "max_len_event = df.iloc[max_len_event_id]\n",
        "max_len_event.events"
      ],
      "execution_count": 0,
      "outputs": [
        {
          "output_type": "execute_result",
          "data": {
            "text/plain": [
              "['stopped car on the shoulder',\n",
              " 'heavy traffic',\n",
              " 'heavy traffic',\n",
              " 'heavy traffic',\n",
              " 'slowdown',\n",
              " 'stopped traffic',\n",
              " 'heavy traffic',\n",
              " 'heavy traffic',\n",
              " 'heavy traffic',\n",
              " 'heavy traffic',\n",
              " 'traffic heavier than normal',\n",
              " 'stopped car on the shoulder',\n",
              " 'traffic jam',\n",
              " 'heavy traffic',\n",
              " 'stopped traffic',\n",
              " 'stopped traffic',\n",
              " 'stopped traffic',\n",
              " 'heavy traffic',\n",
              " 'traffic jam',\n",
              " 'stopped car on the shoulder',\n",
              " 'stopped traffic',\n",
              " 'stopped traffic',\n",
              " 'stopped traffic',\n",
              " 'heavy traffic',\n",
              " 'traffic heavier than normal',\n",
              " 'traffic heavier than normal',\n",
              " 'traffic heavier than normal',\n",
              " 'traffic heavier than normal',\n",
              " 'heavy traffic',\n",
              " 'stopped traffic',\n",
              " 'traffic heavier than normal',\n",
              " 'pothole',\n",
              " 'stopped car on the shoulder',\n",
              " 'traffic jam',\n",
              " 'slowdown',\n",
              " 'stopped traffic',\n",
              " 'heavy traffic',\n",
              " 'traffic heavier than normal',\n",
              " 'traffic jam',\n",
              " 'traffic jam',\n",
              " 'stopped car on the shoulder',\n",
              " 'major event',\n",
              " 'traffic jam',\n",
              " 'traffic jam',\n",
              " 'stopped traffic',\n",
              " 'heavy traffic',\n",
              " 'traffic heavier than normal',\n",
              " 'stopped car on the shoulder',\n",
              " 'slowdown',\n",
              " 'heavy traffic',\n",
              " 'heavy traffic',\n",
              " 'stopped car on the shoulder',\n",
              " 'traffic jam',\n",
              " 'slowdown',\n",
              " 'slowdown',\n",
              " 'heavy traffic',\n",
              " 'stopped car on the shoulder',\n",
              " 'heavy traffic',\n",
              " 'minor accident',\n",
              " 'stopped car on the shoulder',\n",
              " 'heavy traffic',\n",
              " 'stopped car on the shoulder',\n",
              " 'heavy traffic',\n",
              " 'stopped traffic',\n",
              " 'heavy traffic',\n",
              " 'traffic heavier than normal',\n",
              " 'heavy traffic',\n",
              " 'stopped car on the shoulder',\n",
              " 'traffic heavier than normal',\n",
              " 'stopped traffic',\n",
              " 'heavy traffic',\n",
              " 'heavy traffic',\n",
              " 'heavy traffic',\n",
              " 'stopped car on the shoulder',\n",
              " 'slowdown',\n",
              " 'stopped traffic',\n",
              " 'heavy traffic',\n",
              " 'stopped car on the shoulder',\n",
              " 'traffic heavier than normal',\n",
              " 'heavy traffic',\n",
              " 'minor accident',\n",
              " 'major event',\n",
              " 'stopped car on the shoulder',\n",
              " 'stopped car on the shoulder']"
            ]
          },
          "metadata": {
            "tags": []
          },
          "execution_count": 10
        }
      ]
    },
    {
      "cell_type": "markdown",
      "metadata": {
        "id": "Ws-xVMNKodIl",
        "colab_type": "text"
      },
      "source": [
        "Length of longest sequence:"
      ]
    },
    {
      "cell_type": "code",
      "metadata": {
        "id": "RxJCwOZkIVN8",
        "colab_type": "code",
        "outputId": "5f29fbbc-7596-42a0-f120-9de578824af1",
        "colab": {
          "base_uri": "https://localhost:8080/",
          "height": 34
        }
      },
      "source": [
        "maxlen = len(max_len_event.events)\n",
        "maxlen"
      ],
      "execution_count": 0,
      "outputs": [
        {
          "output_type": "execute_result",
          "data": {
            "text/plain": [
              "84"
            ]
          },
          "metadata": {
            "tags": []
          },
          "execution_count": 11
        }
      ]
    },
    {
      "cell_type": "markdown",
      "metadata": {
        "id": "l2UYd_JBopZM",
        "colab_type": "text"
      },
      "source": [
        "Convert from index: event type to event type:index"
      ]
    },
    {
      "cell_type": "code",
      "metadata": {
        "id": "Ri-JNvFaJn07",
        "colab_type": "code",
        "colab": {}
      },
      "source": [
        "reversed_dict = {}\n",
        "for k, v in event_dict.items():\n",
        "  reversed_dict[v] = k"
      ],
      "execution_count": 0,
      "outputs": []
    },
    {
      "cell_type": "markdown",
      "metadata": {
        "id": "SzJ_J579o2KR",
        "colab_type": "text"
      },
      "source": [
        "display reversed dictionary:"
      ]
    },
    {
      "cell_type": "code",
      "metadata": {
        "id": "m6vkEi62KdRD",
        "colab_type": "code",
        "outputId": "81b754c9-d0cf-4d81-ca99-936034cc25a7",
        "colab": {
          "base_uri": "https://localhost:8080/",
          "height": 561
        }
      },
      "source": [
        "reversed_dict"
      ],
      "execution_count": 0,
      "outputs": [
        {
          "output_type": "execute_result",
          "data": {
            "text/plain": [
              "{'accident': 12,\n",
              " 'animal on the shoulder': 22,\n",
              " 'animal struck': 23,\n",
              " 'flooding': 29,\n",
              " 'fog': 11,\n",
              " 'hail': 31,\n",
              " 'hazard on road': 26,\n",
              " 'hazard on the shoulder': 25,\n",
              " 'heavy traffic': 17,\n",
              " 'huge traffic jam': 32,\n",
              " 'ice on roadway': 27,\n",
              " 'large traffic jam': 24,\n",
              " 'major event': 7,\n",
              " 'malfunctioning traffic light': 20,\n",
              " 'medium traffic jam': 19,\n",
              " 'minor accident': 18,\n",
              " 'missing sign on the shoulder': 21,\n",
              " 'object on roadway': 6,\n",
              " 'other': 5,\n",
              " 'pothole': 8,\n",
              " 'road closed': 4,\n",
              " 'road closed due to construction': 1,\n",
              " 'road closed due to hazard': 30,\n",
              " 'road construction': 10,\n",
              " 'slowdown': 13,\n",
              " 'small traffic jam': 15,\n",
              " 'stopped car': 14,\n",
              " 'stopped car on the shoulder': 3,\n",
              " 'stopped traffic': 16,\n",
              " 'traffic heavier than normal': 9,\n",
              " 'traffic jam': 2,\n",
              " 'weather hazard': 28}"
            ]
          },
          "metadata": {
            "tags": []
          },
          "execution_count": 13
        }
      ]
    },
    {
      "cell_type": "markdown",
      "metadata": {
        "id": "SsqaDuaqo7On",
        "colab_type": "text"
      },
      "source": [
        "Convert list of events into a list of numbers:"
      ]
    },
    {
      "cell_type": "code",
      "metadata": {
        "id": "3GfoOc-tID2N",
        "colab_type": "code",
        "colab": {}
      },
      "source": [
        "def map_event_list_to_idxs(event_list):\n",
        "  list_idxs = []\n",
        "  for event in (event_list):\n",
        "    idx = reversed_dict[event]\n",
        "    list_idxs.append(idx)\n",
        "  return list_idxs"
      ],
      "execution_count": 0,
      "outputs": []
    },
    {
      "cell_type": "markdown",
      "metadata": {
        "id": "C4R6J_BGpIiv",
        "colab_type": "text"
      },
      "source": [
        "Use longest list on function:"
      ]
    },
    {
      "cell_type": "code",
      "metadata": {
        "id": "F6pr4SnBKzmC",
        "colab_type": "code",
        "outputId": "716b1200-2edc-4404-e945-2c49657cf89d",
        "colab": {
          "base_uri": "https://localhost:8080/",
          "height": 1000
        }
      },
      "source": [
        "map_event_list_to_idxs(max_len_event.events)"
      ],
      "execution_count": 0,
      "outputs": [
        {
          "output_type": "execute_result",
          "data": {
            "text/plain": [
              "[3,\n",
              " 17,\n",
              " 17,\n",
              " 17,\n",
              " 13,\n",
              " 16,\n",
              " 17,\n",
              " 17,\n",
              " 17,\n",
              " 17,\n",
              " 9,\n",
              " 3,\n",
              " 2,\n",
              " 17,\n",
              " 16,\n",
              " 16,\n",
              " 16,\n",
              " 17,\n",
              " 2,\n",
              " 3,\n",
              " 16,\n",
              " 16,\n",
              " 16,\n",
              " 17,\n",
              " 9,\n",
              " 9,\n",
              " 9,\n",
              " 9,\n",
              " 17,\n",
              " 16,\n",
              " 9,\n",
              " 8,\n",
              " 3,\n",
              " 2,\n",
              " 13,\n",
              " 16,\n",
              " 17,\n",
              " 9,\n",
              " 2,\n",
              " 2,\n",
              " 3,\n",
              " 7,\n",
              " 2,\n",
              " 2,\n",
              " 16,\n",
              " 17,\n",
              " 9,\n",
              " 3,\n",
              " 13,\n",
              " 17,\n",
              " 17,\n",
              " 3,\n",
              " 2,\n",
              " 13,\n",
              " 13,\n",
              " 17,\n",
              " 3,\n",
              " 17,\n",
              " 18,\n",
              " 3,\n",
              " 17,\n",
              " 3,\n",
              " 17,\n",
              " 16,\n",
              " 17,\n",
              " 9,\n",
              " 17,\n",
              " 3,\n",
              " 9,\n",
              " 16,\n",
              " 17,\n",
              " 17,\n",
              " 17,\n",
              " 3,\n",
              " 13,\n",
              " 16,\n",
              " 17,\n",
              " 3,\n",
              " 9,\n",
              " 17,\n",
              " 18,\n",
              " 7,\n",
              " 3,\n",
              " 3]"
            ]
          },
          "metadata": {
            "tags": []
          },
          "execution_count": 15
        }
      ]
    },
    {
      "cell_type": "markdown",
      "metadata": {
        "id": "SgMG2oA1pXSo",
        "colab_type": "text"
      },
      "source": [
        "Load numpy and utility functions from Keras:"
      ]
    },
    {
      "cell_type": "code",
      "metadata": {
        "id": "OfVh-gCCRtAp",
        "colab_type": "code",
        "outputId": "984be68f-d51c-4d03-cba4-10b10e522496",
        "colab": {
          "base_uri": "https://localhost:8080/",
          "height": 34
        }
      },
      "source": [
        "import numpy as np\n",
        "from keras.utils import to_categorical\n",
        "from keras.preprocessing.sequence import pad_sequences"
      ],
      "execution_count": 0,
      "outputs": [
        {
          "output_type": "stream",
          "text": [
            "Using TensorFlow backend.\n"
          ],
          "name": "stderr"
        }
      ]
    },
    {
      "cell_type": "markdown",
      "metadata": {
        "id": "zvDDEIWhpeV2",
        "colab_type": "text"
      },
      "source": [
        "Number of event types:"
      ]
    },
    {
      "cell_type": "code",
      "metadata": {
        "id": "ajB5HN24LFVp",
        "colab_type": "code",
        "outputId": "91a513b1-d164-465b-e65e-21d9925e4c80",
        "colab": {
          "base_uri": "https://localhost:8080/",
          "height": 34
        }
      },
      "source": [
        "len(event_dict)"
      ],
      "execution_count": 0,
      "outputs": [
        {
          "output_type": "execute_result",
          "data": {
            "text/plain": [
              "32"
            ]
          },
          "metadata": {
            "tags": []
          },
          "execution_count": 17
        }
      ]
    },
    {
      "cell_type": "markdown",
      "metadata": {
        "id": "uhDwKbaKpkTn",
        "colab_type": "text"
      },
      "source": [
        "Convert all sequence of events into lists of numbers:"
      ]
    },
    {
      "cell_type": "code",
      "metadata": {
        "id": "F7Lpii1pMVCe",
        "colab_type": "code",
        "outputId": "64a29e19-cb2e-45a9-9009-b2f29f22d063",
        "colab": {
          "base_uri": "https://localhost:8080/",
          "height": 221
        }
      },
      "source": [
        "df.events.apply(map_event_list_to_idxs)"
      ],
      "execution_count": 0,
      "outputs": [
        {
          "output_type": "execute_result",
          "data": {
            "text/plain": [
              "0      [9, 17, 18, 14, 13, 17, 3, 13, 16, 3, 17, 17, ...\n",
              "1                                             [2, 10, 3]\n",
              "2                                                    [2]\n",
              "3                                                    [2]\n",
              "4                               [2, 2, 2, 2, 2, 2, 2, 9]\n",
              "                             ...                        \n",
              "856                    [17, 17, 17, 2, 3, 2, 2, 2, 2, 2]\n",
              "857                                               [2, 2]\n",
              "858                                  [2, 2, 9, 17, 2, 2]\n",
              "859                            [17, 3, 2, 2, 2, 2, 2, 2]\n",
              "860    [17, 3, 3, 17, 3, 17, 2, 3, 18, 14, 3, 3, 16, ...\n",
              "Name: events, Length: 1722, dtype: object"
            ]
          },
          "metadata": {
            "tags": []
          },
          "execution_count": 18
        }
      ]
    },
    {
      "cell_type": "markdown",
      "metadata": {
        "id": "9GOQWEFGpwzB",
        "colab_type": "text"
      },
      "source": [
        "Result list:"
      ]
    },
    {
      "cell_type": "code",
      "metadata": {
        "id": "XCZzSnwDLGs3",
        "colab_type": "code",
        "outputId": "921bd7ae-24f6-41fa-db60-b6852718a4c5",
        "colab": {
          "base_uri": "https://localhost:8080/",
          "height": 680
        }
      },
      "source": [
        "sequences = df.events.apply(map_event_list_to_idxs).tolist()\n",
        "sequences[:5]"
      ],
      "execution_count": 0,
      "outputs": [
        {
          "output_type": "execute_result",
          "data": {
            "text/plain": [
              "[[9,\n",
              "  17,\n",
              "  18,\n",
              "  14,\n",
              "  13,\n",
              "  17,\n",
              "  3,\n",
              "  13,\n",
              "  16,\n",
              "  3,\n",
              "  17,\n",
              "  17,\n",
              "  16,\n",
              "  3,\n",
              "  16,\n",
              "  17,\n",
              "  9,\n",
              "  17,\n",
              "  2,\n",
              "  17,\n",
              "  2,\n",
              "  7,\n",
              "  16,\n",
              "  17,\n",
              "  17,\n",
              "  17,\n",
              "  17,\n",
              "  13,\n",
              "  5,\n",
              "  17,\n",
              "  9,\n",
              "  9,\n",
              "  16,\n",
              "  16,\n",
              "  3],\n",
              " [2, 10, 3],\n",
              " [2],\n",
              " [2],\n",
              " [2, 2, 2, 2, 2, 2, 2, 9]]"
            ]
          },
          "metadata": {
            "tags": []
          },
          "execution_count": 19
        }
      ]
    },
    {
      "cell_type": "code",
      "metadata": {
        "id": "GJOkHvJgvCqE",
        "colab_type": "code",
        "outputId": "5a497861-fdeb-4f7f-9f9f-a698f2f75489",
        "colab": {
          "base_uri": "https://localhost:8080/",
          "height": 34
        }
      },
      "source": [
        "len(sequences)"
      ],
      "execution_count": 0,
      "outputs": [
        {
          "output_type": "execute_result",
          "data": {
            "text/plain": [
              "1722"
            ]
          },
          "metadata": {
            "tags": []
          },
          "execution_count": 20
        }
      ]
    },
    {
      "cell_type": "markdown",
      "metadata": {
        "id": "bvXgQgELqFNV",
        "colab_type": "text"
      },
      "source": [
        "All input sequences should share the same length. Use length of longest sequence as max length and pad other shorter sequences with 0s from the beginning."
      ]
    },
    {
      "cell_type": "code",
      "metadata": {
        "id": "3_VIVUvBUYnn",
        "colab_type": "code",
        "outputId": "6d1ebd4f-ff9b-4c52-d6a6-baf42589b676",
        "colab": {
          "base_uri": "https://localhost:8080/",
          "height": 136
        }
      },
      "source": [
        "data = pad_sequences(sequences, maxlen=maxlen)\n",
        "data"
      ],
      "execution_count": 0,
      "outputs": [
        {
          "output_type": "execute_result",
          "data": {
            "text/plain": [
              "array([[ 0,  0,  0, ..., 16, 16,  3],\n",
              "       [ 0,  0,  0, ...,  2, 10,  3],\n",
              "       [ 0,  0,  0, ...,  0,  0,  2],\n",
              "       ...,\n",
              "       [ 0,  0,  0, ..., 17,  2,  2],\n",
              "       [ 0,  0,  0, ...,  2,  2,  2],\n",
              "       [ 0,  0,  0, ...,  3,  3,  2]], dtype=int32)"
            ]
          },
          "metadata": {
            "tags": []
          },
          "execution_count": 21
        }
      ]
    },
    {
      "cell_type": "markdown",
      "metadata": {
        "id": "eRFs3s-fqeav",
        "colab_type": "text"
      },
      "source": [
        "Save label column into variable labels."
      ]
    },
    {
      "cell_type": "code",
      "metadata": {
        "id": "jOSHPWRnUt0V",
        "colab_type": "code",
        "colab": {}
      },
      "source": [
        "labels = np.array(df.label)"
      ],
      "execution_count": 0,
      "outputs": []
    },
    {
      "cell_type": "markdown",
      "metadata": {
        "id": "90TTj0hnqsKR",
        "colab_type": "text"
      },
      "source": [
        "Specify random seed value:"
      ]
    },
    {
      "cell_type": "code",
      "metadata": {
        "id": "PSD_-UG1B9G0",
        "colab_type": "code",
        "colab": {}
      },
      "source": [
        "np.random.seed(12)"
      ],
      "execution_count": 0,
      "outputs": []
    },
    {
      "cell_type": "markdown",
      "metadata": {
        "id": "dD1xUMlgq2Sw",
        "colab_type": "text"
      },
      "source": [
        "Shuffle sequences along with their corresponding labels. "
      ]
    },
    {
      "cell_type": "code",
      "metadata": {
        "id": "gxA3cElTUzrZ",
        "colab_type": "code",
        "colab": {}
      },
      "source": [
        "indices = np.arange(data.shape[0])\n",
        "np.random.shuffle(indices)\n",
        "data = data[indices]\n",
        "labels = labels[indices]"
      ],
      "execution_count": 0,
      "outputs": []
    },
    {
      "cell_type": "markdown",
      "metadata": {
        "id": "DrGPp8j2q_AH",
        "colab_type": "text"
      },
      "source": [
        "Training set will contain 80% of data. 20% goes into the validation set."
      ]
    },
    {
      "cell_type": "code",
      "metadata": {
        "id": "ay_11WJ-U2r0",
        "colab_type": "code",
        "colab": {}
      },
      "source": [
        "training_samples = int(len(indices) * .8)\n",
        "validation_samples = len(indices) - training_samples"
      ],
      "execution_count": 0,
      "outputs": []
    },
    {
      "cell_type": "markdown",
      "metadata": {
        "id": "8CXTwf-UrJpx",
        "colab_type": "text"
      },
      "source": [
        "Divide data into training and validation sets, along with the labels."
      ]
    },
    {
      "cell_type": "code",
      "metadata": {
        "id": "8PvKfu7OU4Tu",
        "colab_type": "code",
        "colab": {}
      },
      "source": [
        "X_train = data[:training_samples]\n",
        "y_train = labels[:training_samples]\n",
        "X_valid = data[training_samples: training_samples + validation_samples]\n",
        "y_valid = labels[training_samples: training_samples + validation_samples]"
      ],
      "execution_count": 0,
      "outputs": []
    },
    {
      "cell_type": "markdown",
      "metadata": {
        "id": "2sYRZRQxrPaD",
        "colab_type": "text"
      },
      "source": [
        "Display content of training data. Number of event types will now be 33 instead of 32 because of the padding."
      ]
    },
    {
      "cell_type": "code",
      "metadata": {
        "id": "d4ljsGj-WYrR",
        "colab_type": "code",
        "outputId": "f8cb5e42-7f42-4094-b430-25c4159461fd",
        "colab": {
          "base_uri": "https://localhost:8080/",
          "height": 136
        }
      },
      "source": [
        "X_train"
      ],
      "execution_count": 0,
      "outputs": [
        {
          "output_type": "execute_result",
          "data": {
            "text/plain": [
              "array([[ 0,  0,  0, ..., 15, 15,  3],\n",
              "       [ 0,  0,  0, ...,  0,  2,  2],\n",
              "       [ 0,  0,  0, ...,  0,  0, 16],\n",
              "       ...,\n",
              "       [ 0,  0,  0, ...,  2, 15, 16],\n",
              "       [ 0,  0,  0, ...,  2,  2,  2],\n",
              "       [ 0,  0,  0, ...,  0,  0,  2]], dtype=int32)"
            ]
          },
          "metadata": {
            "tags": []
          },
          "execution_count": 27
        }
      ]
    },
    {
      "cell_type": "code",
      "metadata": {
        "id": "MqifLVUc0Q3W",
        "colab_type": "code",
        "colab": {}
      },
      "source": [
        "num_events = len(event_dict) + 1"
      ],
      "execution_count": 0,
      "outputs": []
    },
    {
      "cell_type": "markdown",
      "metadata": {
        "id": "1FvYBDFSrq6k",
        "colab_type": "text"
      },
      "source": [
        "Convert each number into a vector, with each vector containing 20 scalars."
      ]
    },
    {
      "cell_type": "code",
      "metadata": {
        "id": "gYPqQ_SkWs4Z",
        "colab_type": "code",
        "colab": {}
      },
      "source": [
        "embedding_dim = 20"
      ],
      "execution_count": 0,
      "outputs": []
    },
    {
      "cell_type": "markdown",
      "metadata": {
        "id": "JAxQDu1Qr3te",
        "colab_type": "text"
      },
      "source": [
        "Initial embedding matrix, generated randomly:"
      ]
    },
    {
      "cell_type": "code",
      "metadata": {
        "id": "1LsFlDRdWr1Y",
        "colab_type": "code",
        "colab": {}
      },
      "source": [
        "embedding_matrix = np.random.rand(num_events, embedding_dim)"
      ],
      "execution_count": 0,
      "outputs": []
    },
    {
      "cell_type": "markdown",
      "metadata": {
        "id": "dCxFdtRisB_M",
        "colab_type": "text"
      },
      "source": [
        "Use the sequential model in Keras and put different layers one by one. \n",
        "Layer 1: Embedding layer\n",
        "Layer 2: LSTM layer\n",
        "Layer 3: Dense (activation function is sigmoid for binary classification)"
      ]
    },
    {
      "cell_type": "code",
      "metadata": {
        "id": "Y4UgZAIhU6IW",
        "colab_type": "code",
        "outputId": "c7ad1394-9676-42de-cea1-b864b8a492b1",
        "colab": {
          "base_uri": "https://localhost:8080/",
          "height": 139
        }
      },
      "source": [
        "from keras.models import Sequential\n",
        "from keras.layers import Embedding, Flatten, Dense, LSTM\n",
        "\n",
        "units = 32\n",
        "\n",
        "model = Sequential()\n",
        "model.add(Embedding(num_events, embedding_dim))\n",
        "model.add(LSTM(units))\n",
        "model.add(Dense(1, activation='sigmoid'))"
      ],
      "execution_count": 0,
      "outputs": [
        {
          "output_type": "stream",
          "text": [
            "WARNING:tensorflow:From /usr/local/lib/python3.6/dist-packages/keras/backend/tensorflow_backend.py:66: The name tf.get_default_graph is deprecated. Please use tf.compat.v1.get_default_graph instead.\n",
            "\n",
            "WARNING:tensorflow:From /usr/local/lib/python3.6/dist-packages/keras/backend/tensorflow_backend.py:541: The name tf.placeholder is deprecated. Please use tf.compat.v1.placeholder instead.\n",
            "\n",
            "WARNING:tensorflow:From /usr/local/lib/python3.6/dist-packages/keras/backend/tensorflow_backend.py:4432: The name tf.random_uniform is deprecated. Please use tf.random.uniform instead.\n",
            "\n"
          ],
          "name": "stdout"
        }
      ]
    },
    {
      "cell_type": "markdown",
      "metadata": {
        "id": "dmt1FKRbsoXm",
        "colab_type": "text"
      },
      "source": [
        "To handle parameters in the embedding layer, load in the initial embedding matrix generated randomly and not let the training process change the weights in Embedding layer. "
      ]
    },
    {
      "cell_type": "code",
      "metadata": {
        "id": "vVX_sfo8W2wV",
        "colab_type": "code",
        "outputId": "b04d81b4-3703-413c-9aa2-fa102d9a30b0",
        "colab": {
          "base_uri": "https://localhost:8080/",
          "height": 241
        }
      },
      "source": [
        "model.layers[0].set_weights([embedding_matrix])\n",
        "model.layers[0].trainable = False"
      ],
      "execution_count": 0,
      "outputs": [
        {
          "output_type": "stream",
          "text": [
            "WARNING:tensorflow:From /usr/local/lib/python3.6/dist-packages/keras/backend/tensorflow_backend.py:190: The name tf.get_default_session is deprecated. Please use tf.compat.v1.get_default_session instead.\n",
            "\n",
            "WARNING:tensorflow:From /usr/local/lib/python3.6/dist-packages/keras/backend/tensorflow_backend.py:197: The name tf.ConfigProto is deprecated. Please use tf.compat.v1.ConfigProto instead.\n",
            "\n",
            "WARNING:tensorflow:From /usr/local/lib/python3.6/dist-packages/keras/backend/tensorflow_backend.py:203: The name tf.Session is deprecated. Please use tf.compat.v1.Session instead.\n",
            "\n",
            "WARNING:tensorflow:From /usr/local/lib/python3.6/dist-packages/keras/backend/tensorflow_backend.py:207: The name tf.global_variables is deprecated. Please use tf.compat.v1.global_variables instead.\n",
            "\n",
            "WARNING:tensorflow:From /usr/local/lib/python3.6/dist-packages/keras/backend/tensorflow_backend.py:216: The name tf.is_variable_initialized is deprecated. Please use tf.compat.v1.is_variable_initialized instead.\n",
            "\n",
            "WARNING:tensorflow:From /usr/local/lib/python3.6/dist-packages/keras/backend/tensorflow_backend.py:223: The name tf.variables_initializer is deprecated. Please use tf.compat.v1.variables_initializer instead.\n",
            "\n"
          ],
          "name": "stdout"
        }
      ]
    },
    {
      "cell_type": "markdown",
      "metadata": {
        "id": "nXgG11kjs5mf",
        "colab_type": "text"
      },
      "source": [
        "Train model and save into an h5 file:"
      ]
    },
    {
      "cell_type": "code",
      "metadata": {
        "id": "Vvk32LXtVEBC",
        "colab_type": "code",
        "outputId": "1af7e918-481a-4965-eee8-62e4ba2445ec",
        "colab": {
          "base_uri": "https://localhost:8080/",
          "height": 1000
        }
      },
      "source": [
        "model.compile(optimizer='rmsprop',\n",
        "              loss='binary_crossentropy',\n",
        "              metrics=['acc'])\n",
        "history = model.fit(X_train, y_train,\n",
        "                    epochs=50,\n",
        "                    batch_size=32,\n",
        "                    validation_data=(X_valid, y_valid))\n",
        "model.save(\"mymodel_embedding_untrainable.h5\")"
      ],
      "execution_count": 0,
      "outputs": [
        {
          "output_type": "stream",
          "text": [
            "WARNING:tensorflow:From /usr/local/lib/python3.6/dist-packages/keras/optimizers.py:793: The name tf.train.Optimizer is deprecated. Please use tf.compat.v1.train.Optimizer instead.\n",
            "\n",
            "WARNING:tensorflow:From /usr/local/lib/python3.6/dist-packages/keras/backend/tensorflow_backend.py:3657: The name tf.log is deprecated. Please use tf.math.log instead.\n",
            "\n",
            "WARNING:tensorflow:From /usr/local/lib/python3.6/dist-packages/tensorflow_core/python/ops/nn_impl.py:183: where (from tensorflow.python.ops.array_ops) is deprecated and will be removed in a future version.\n",
            "Instructions for updating:\n",
            "Use tf.where in 2.0, which has the same broadcast rule as np.where\n",
            "WARNING:tensorflow:From /usr/local/lib/python3.6/dist-packages/keras/backend/tensorflow_backend.py:1033: The name tf.assign_add is deprecated. Please use tf.compat.v1.assign_add instead.\n",
            "\n",
            "WARNING:tensorflow:From /usr/local/lib/python3.6/dist-packages/keras/backend/tensorflow_backend.py:1020: The name tf.assign is deprecated. Please use tf.compat.v1.assign instead.\n",
            "\n",
            "Train on 1377 samples, validate on 345 samples\n",
            "Epoch 1/50\n",
            "1377/1377 [==============================] - 4s 3ms/step - loss: 0.6811 - acc: 0.5621 - val_loss: 0.6795 - val_acc: 0.5826\n",
            "Epoch 2/50\n",
            "1377/1377 [==============================] - 2s 2ms/step - loss: 0.6527 - acc: 0.6107 - val_loss: 0.6563 - val_acc: 0.6261\n",
            "Epoch 3/50\n",
            "1377/1377 [==============================] - 2s 2ms/step - loss: 0.6277 - acc: 0.6652 - val_loss: 0.6905 - val_acc: 0.5449\n",
            "Epoch 4/50\n",
            "1377/1377 [==============================] - 2s 2ms/step - loss: 0.6111 - acc: 0.6790 - val_loss: 0.6980 - val_acc: 0.5855\n",
            "Epoch 5/50\n",
            "1377/1377 [==============================] - 2s 2ms/step - loss: 0.5950 - acc: 0.6848 - val_loss: 0.5887 - val_acc: 0.7304\n",
            "Epoch 6/50\n",
            "1377/1377 [==============================] - 2s 2ms/step - loss: 0.5929 - acc: 0.6892 - val_loss: 0.6450 - val_acc: 0.6261\n",
            "Epoch 7/50\n",
            "1377/1377 [==============================] - 2s 2ms/step - loss: 0.5785 - acc: 0.7117 - val_loss: 0.6718 - val_acc: 0.6377\n",
            "Epoch 8/50\n",
            "1377/1377 [==============================] - 2s 2ms/step - loss: 0.5728 - acc: 0.7168 - val_loss: 0.6199 - val_acc: 0.6638\n",
            "Epoch 9/50\n",
            "1377/1377 [==============================] - 2s 2ms/step - loss: 0.5699 - acc: 0.7066 - val_loss: 0.6474 - val_acc: 0.5884\n",
            "Epoch 10/50\n",
            "1377/1377 [==============================] - 2s 2ms/step - loss: 0.5563 - acc: 0.7226 - val_loss: 0.5684 - val_acc: 0.7188\n",
            "Epoch 11/50\n",
            "1377/1377 [==============================] - 2s 2ms/step - loss: 0.5560 - acc: 0.7160 - val_loss: 0.6993 - val_acc: 0.5246\n",
            "Epoch 12/50\n",
            "1377/1377 [==============================] - 2s 2ms/step - loss: 0.5473 - acc: 0.7284 - val_loss: 0.7576 - val_acc: 0.5246\n",
            "Epoch 13/50\n",
            "1377/1377 [==============================] - 2s 2ms/step - loss: 0.5531 - acc: 0.7306 - val_loss: 0.6404 - val_acc: 0.6319\n",
            "Epoch 14/50\n",
            "1377/1377 [==============================] - 2s 2ms/step - loss: 0.5467 - acc: 0.7313 - val_loss: 0.5976 - val_acc: 0.6754\n",
            "Epoch 15/50\n",
            "1377/1377 [==============================] - 2s 2ms/step - loss: 0.5414 - acc: 0.7240 - val_loss: 0.5561 - val_acc: 0.7333\n",
            "Epoch 16/50\n",
            "1377/1377 [==============================] - 2s 2ms/step - loss: 0.5376 - acc: 0.7284 - val_loss: 0.6231 - val_acc: 0.6696\n",
            "Epoch 17/50\n",
            "1377/1377 [==============================] - 2s 2ms/step - loss: 0.5384 - acc: 0.7320 - val_loss: 0.6382 - val_acc: 0.5623\n",
            "Epoch 18/50\n",
            "1377/1377 [==============================] - 2s 2ms/step - loss: 0.5312 - acc: 0.7291 - val_loss: 0.6051 - val_acc: 0.6609\n",
            "Epoch 19/50\n",
            "1377/1377 [==============================] - 2s 2ms/step - loss: 0.5342 - acc: 0.7371 - val_loss: 0.5733 - val_acc: 0.7246\n",
            "Epoch 20/50\n",
            "1377/1377 [==============================] - 2s 2ms/step - loss: 0.5294 - acc: 0.7349 - val_loss: 0.6108 - val_acc: 0.6609\n",
            "Epoch 21/50\n",
            "1377/1377 [==============================] - 2s 2ms/step - loss: 0.5272 - acc: 0.7291 - val_loss: 0.5379 - val_acc: 0.7246\n",
            "Epoch 22/50\n",
            "1377/1377 [==============================] - 2s 2ms/step - loss: 0.5162 - acc: 0.7444 - val_loss: 0.6300 - val_acc: 0.6522\n",
            "Epoch 23/50\n",
            "1377/1377 [==============================] - 2s 2ms/step - loss: 0.5170 - acc: 0.7473 - val_loss: 0.5832 - val_acc: 0.7217\n",
            "Epoch 24/50\n",
            "1377/1377 [==============================] - 2s 2ms/step - loss: 0.5143 - acc: 0.7502 - val_loss: 0.9002 - val_acc: 0.6145\n",
            "Epoch 25/50\n",
            "1377/1377 [==============================] - 2s 2ms/step - loss: 0.5199 - acc: 0.7466 - val_loss: 0.6799 - val_acc: 0.6522\n",
            "Epoch 26/50\n",
            "1377/1377 [==============================] - 2s 2ms/step - loss: 0.5164 - acc: 0.7480 - val_loss: 0.5380 - val_acc: 0.7420\n",
            "Epoch 27/50\n",
            "1377/1377 [==============================] - 2s 2ms/step - loss: 0.5088 - acc: 0.7662 - val_loss: 0.5743 - val_acc: 0.6928\n",
            "Epoch 28/50\n",
            "1377/1377 [==============================] - 2s 2ms/step - loss: 0.5086 - acc: 0.7524 - val_loss: 0.6241 - val_acc: 0.6464\n",
            "Epoch 29/50\n",
            "1377/1377 [==============================] - 2s 2ms/step - loss: 0.5077 - acc: 0.7516 - val_loss: 0.5611 - val_acc: 0.7014\n",
            "Epoch 30/50\n",
            "1377/1377 [==============================] - 2s 2ms/step - loss: 0.5091 - acc: 0.7560 - val_loss: 0.5290 - val_acc: 0.7594\n",
            "Epoch 31/50\n",
            "1377/1377 [==============================] - 2s 2ms/step - loss: 0.5028 - acc: 0.7582 - val_loss: 0.5154 - val_acc: 0.7362\n",
            "Epoch 32/50\n",
            "1377/1377 [==============================] - 2s 2ms/step - loss: 0.5033 - acc: 0.7574 - val_loss: 0.5877 - val_acc: 0.6812\n",
            "Epoch 33/50\n",
            "1377/1377 [==============================] - 2s 2ms/step - loss: 0.5037 - acc: 0.7531 - val_loss: 0.5310 - val_acc: 0.7304\n",
            "Epoch 34/50\n",
            "1377/1377 [==============================] - 2s 2ms/step - loss: 0.4968 - acc: 0.7567 - val_loss: 0.5528 - val_acc: 0.7420\n",
            "Epoch 35/50\n",
            "1377/1377 [==============================] - 2s 2ms/step - loss: 0.4991 - acc: 0.7589 - val_loss: 0.5274 - val_acc: 0.7043\n",
            "Epoch 36/50\n",
            "1377/1377 [==============================] - 2s 2ms/step - loss: 0.4979 - acc: 0.7589 - val_loss: 0.5673 - val_acc: 0.7217\n",
            "Epoch 37/50\n",
            "1377/1377 [==============================] - 2s 2ms/step - loss: 0.4962 - acc: 0.7560 - val_loss: 0.5700 - val_acc: 0.6812\n",
            "Epoch 38/50\n",
            "1377/1377 [==============================] - 2s 2ms/step - loss: 0.4980 - acc: 0.7618 - val_loss: 0.5250 - val_acc: 0.7507\n",
            "Epoch 39/50\n",
            "1377/1377 [==============================] - 2s 2ms/step - loss: 0.4982 - acc: 0.7647 - val_loss: 0.5413 - val_acc: 0.7478\n",
            "Epoch 40/50\n",
            "1377/1377 [==============================] - 2s 2ms/step - loss: 0.4921 - acc: 0.7603 - val_loss: 0.5253 - val_acc: 0.7304\n",
            "Epoch 41/50\n",
            "1377/1377 [==============================] - 2s 2ms/step - loss: 0.4906 - acc: 0.7662 - val_loss: 0.5285 - val_acc: 0.7246\n",
            "Epoch 42/50\n",
            "1377/1377 [==============================] - 2s 2ms/step - loss: 0.4932 - acc: 0.7633 - val_loss: 0.6145 - val_acc: 0.6667\n",
            "Epoch 43/50\n",
            "1377/1377 [==============================] - 2s 2ms/step - loss: 0.4836 - acc: 0.7669 - val_loss: 0.5487 - val_acc: 0.7391\n",
            "Epoch 44/50\n",
            "1377/1377 [==============================] - 2s 2ms/step - loss: 0.4974 - acc: 0.7669 - val_loss: 0.5265 - val_acc: 0.7217\n",
            "Epoch 45/50\n",
            "1377/1377 [==============================] - 2s 2ms/step - loss: 0.4868 - acc: 0.7814 - val_loss: 0.5312 - val_acc: 0.7188\n",
            "Epoch 46/50\n",
            "1377/1377 [==============================] - 2s 2ms/step - loss: 0.4893 - acc: 0.7618 - val_loss: 0.5519 - val_acc: 0.7304\n",
            "Epoch 47/50\n",
            "1377/1377 [==============================] - 2s 2ms/step - loss: 0.4878 - acc: 0.7669 - val_loss: 0.5357 - val_acc: 0.7333\n",
            "Epoch 48/50\n",
            "1377/1377 [==============================] - 2s 2ms/step - loss: 0.4825 - acc: 0.7654 - val_loss: 0.5997 - val_acc: 0.6870\n",
            "Epoch 49/50\n",
            "1377/1377 [==============================] - 2s 2ms/step - loss: 0.4890 - acc: 0.7654 - val_loss: 0.5443 - val_acc: 0.7014\n",
            "Epoch 50/50\n",
            "1377/1377 [==============================] - 2s 2ms/step - loss: 0.4811 - acc: 0.7829 - val_loss: 0.5336 - val_acc: 0.7565\n"
          ],
          "name": "stdout"
        }
      ]
    },
    {
      "cell_type": "markdown",
      "metadata": {
        "id": "Zz0Jt5kxtBze",
        "colab_type": "text"
      },
      "source": [
        "Curve visualization for accuracy and loss using matplotlib"
      ]
    },
    {
      "cell_type": "code",
      "metadata": {
        "id": "V0KUqeWqVMCi",
        "colab_type": "code",
        "outputId": "62d9d808-8478-429e-d519-3ac3c108ec5b",
        "colab": {
          "base_uri": "https://localhost:8080/",
          "height": 545
        }
      },
      "source": [
        "import matplotlib.pyplot as plt\n",
        "\n",
        "acc = history.history['acc']\n",
        "val_acc = history.history['val_acc']\n",
        "loss = history.history['loss']\n",
        "val_loss = history.history['val_loss']\n",
        "\n",
        "epochs = range(1, len(acc) + 1)\n",
        "\n",
        "plt.plot(epochs, acc, 'bo', label='Training acc')\n",
        "plt.plot(epochs, val_acc, 'b', label='Validation acc')\n",
        "plt.title('Training and validation accuracy')\n",
        "plt.legend()\n",
        "\n",
        "plt.figure()\n",
        "\n",
        "plt.plot(epochs, loss, 'bo', label='Training loss')\n",
        "plt.plot(epochs, val_loss, 'b', label='Validation loss')\n",
        "plt.title('Training and validation loss')\n",
        "plt.legend()\n",
        "\n",
        "plt.show()"
      ],
      "execution_count": 0,
      "outputs": [
        {
          "output_type": "display_data",
          "data": {
            "image/png": "[encoded data removed]",
            "text/plain": [
              "<Figure size 432x288 with 1 Axes>"
            ]
          },
          "metadata": {
            "tags": []
          }
        },
        {
          "output_type": "display_data",
          "data": {
            "image/png": "[encoded data removed]",
            "text/plain": [
              "<Figure size 432x288 with 1 Axes>"
            ]
          },
          "metadata": {
            "tags": []
          }
        }
      ]
    },
    {
      "cell_type": "markdown",
      "metadata": {
        "id": "t04XTL_VtY5d",
        "colab_type": "text"
      },
      "source": [
        "Experiment allowing the Embedding layer to be trained and adjusted."
      ]
    },
    {
      "cell_type": "code",
      "metadata": {
        "id": "U84sdc2wMKWk",
        "colab_type": "code",
        "colab": {}
      },
      "source": [
        "from keras.models import Sequential\n",
        "from keras.layers import Embedding, Flatten, Dense, LSTM\n",
        "\n",
        "units = 32\n",
        "\n",
        "model = Sequential()\n",
        "model.add(Embedding(num_events, embedding_dim))\n",
        "model.add(LSTM(units))\n",
        "model.add(Dense(1, activation='sigmoid'))"
      ],
      "execution_count": 0,
      "outputs": []
    },
    {
      "cell_type": "markdown",
      "metadata": {
        "id": "9kUqEtL6tj84",
        "colab_type": "text"
      },
      "source": [
        "Set parameter trainable to true."
      ]
    },
    {
      "cell_type": "code",
      "metadata": {
        "id": "9V_vFEfVMO35",
        "colab_type": "code",
        "colab": {}
      },
      "source": [
        "model.layers[0].set_weights([embedding_matrix])\n",
        "model.layers[0].trainable = True"
      ],
      "execution_count": 0,
      "outputs": []
    },
    {
      "cell_type": "markdown",
      "metadata": {
        "id": "9h5JW6yntpCL",
        "colab_type": "text"
      },
      "source": [
        "compile and run..."
      ]
    },
    {
      "cell_type": "code",
      "metadata": {
        "id": "6Y2QnUr8MQ8Q",
        "colab_type": "code",
        "outputId": "af946746-41d0-4dad-e7c5-e68a9cd808e1",
        "colab": {
          "base_uri": "https://localhost:8080/",
          "height": 1000
        }
      },
      "source": [
        "model.compile(optimizer='rmsprop',\n",
        "              loss='binary_crossentropy',\n",
        "              metrics=['acc'])\n",
        "history = model.fit(X_train, y_train,\n",
        "                    epochs=50,\n",
        "                    batch_size=32,\n",
        "                    validation_data=(X_valid, y_valid))\n",
        "model.save(\"mymodel_embedding_trainable.h5\")"
      ],
      "execution_count": 0,
      "outputs": [
        {
          "output_type": "stream",
          "text": [
            "Train on 1377 samples, validate on 345 samples\n",
            "Epoch 1/50\n",
            "1377/1377 [==============================] - 3s 2ms/step - loss: 0.6808 - acc: 0.5839 - val_loss: 0.6630 - val_acc: 0.6290\n",
            "Epoch 2/50\n",
            "1377/1377 [==============================] - 2s 2ms/step - loss: 0.6393 - acc: 0.6543 - val_loss: 0.6652 - val_acc: 0.5681\n",
            "Epoch 3/50\n",
            "1377/1377 [==============================] - 2s 2ms/step - loss: 0.6038 - acc: 0.6906 - val_loss: 0.8395 - val_acc: 0.5246\n",
            "Epoch 4/50\n",
            "1377/1377 [==============================] - 3s 2ms/step - loss: 0.5823 - acc: 0.7190 - val_loss: 0.5925 - val_acc: 0.6783\n",
            "Epoch 5/50\n",
            "1377/1377 [==============================] - 3s 2ms/step - loss: 0.5665 - acc: 0.7240 - val_loss: 0.5549 - val_acc: 0.7275\n",
            "Epoch 6/50\n",
            "1377/1377 [==============================] - 3s 2ms/step - loss: 0.5572 - acc: 0.7240 - val_loss: 0.5738 - val_acc: 0.6667\n",
            "Epoch 7/50\n",
            "1377/1377 [==============================] - 2s 2ms/step - loss: 0.5539 - acc: 0.7262 - val_loss: 0.5665 - val_acc: 0.6957\n",
            "Epoch 8/50\n",
            "1377/1377 [==============================] - 3s 2ms/step - loss: 0.5510 - acc: 0.7226 - val_loss: 0.5745 - val_acc: 0.7014\n",
            "Epoch 9/50\n",
            "1377/1377 [==============================] - 3s 2ms/step - loss: 0.5406 - acc: 0.7313 - val_loss: 0.5472 - val_acc: 0.7275\n",
            "Epoch 10/50\n",
            "1377/1377 [==============================] - 3s 2ms/step - loss: 0.5276 - acc: 0.7328 - val_loss: 0.5215 - val_acc: 0.7362\n",
            "Epoch 11/50\n",
            "1377/1377 [==============================] - 3s 2ms/step - loss: 0.5227 - acc: 0.7429 - val_loss: 0.5075 - val_acc: 0.7507\n",
            "Epoch 12/50\n",
            "1377/1377 [==============================] - 3s 2ms/step - loss: 0.5166 - acc: 0.7436 - val_loss: 0.5323 - val_acc: 0.7246\n",
            "Epoch 13/50\n",
            "1377/1377 [==============================] - 3s 2ms/step - loss: 0.5134 - acc: 0.7458 - val_loss: 0.5086 - val_acc: 0.7536\n",
            "Epoch 14/50\n",
            "1377/1377 [==============================] - 3s 2ms/step - loss: 0.5061 - acc: 0.7524 - val_loss: 0.5446 - val_acc: 0.7188\n",
            "Epoch 15/50\n",
            "1377/1377 [==============================] - 3s 2ms/step - loss: 0.5047 - acc: 0.7466 - val_loss: 0.5205 - val_acc: 0.7420\n",
            "Epoch 16/50\n",
            "1377/1377 [==============================] - 3s 2ms/step - loss: 0.5077 - acc: 0.7502 - val_loss: 0.5119 - val_acc: 0.7449\n",
            "Epoch 17/50\n",
            "1377/1377 [==============================] - 3s 2ms/step - loss: 0.4988 - acc: 0.7611 - val_loss: 0.5412 - val_acc: 0.7333\n",
            "Epoch 18/50\n",
            "1377/1377 [==============================] - 3s 2ms/step - loss: 0.4993 - acc: 0.7574 - val_loss: 0.5351 - val_acc: 0.7188\n",
            "Epoch 19/50\n",
            "1377/1377 [==============================] - 3s 2ms/step - loss: 0.4919 - acc: 0.7567 - val_loss: 0.5110 - val_acc: 0.7246\n",
            "Epoch 20/50\n",
            "1377/1377 [==============================] - 3s 2ms/step - loss: 0.4918 - acc: 0.7611 - val_loss: 0.5265 - val_acc: 0.7507\n",
            "Epoch 21/50\n",
            "1377/1377 [==============================] - 3s 2ms/step - loss: 0.4914 - acc: 0.7691 - val_loss: 0.4999 - val_acc: 0.7681\n",
            "Epoch 22/50\n",
            "1377/1377 [==============================] - 3s 2ms/step - loss: 0.4913 - acc: 0.7596 - val_loss: 0.4975 - val_acc: 0.7768\n",
            "Epoch 23/50\n",
            "1377/1377 [==============================] - 3s 2ms/step - loss: 0.4870 - acc: 0.7662 - val_loss: 0.4962 - val_acc: 0.7710\n",
            "Epoch 24/50\n",
            "1377/1377 [==============================] - 3s 2ms/step - loss: 0.4794 - acc: 0.7727 - val_loss: 0.4987 - val_acc: 0.7681\n",
            "Epoch 25/50\n",
            "1377/1377 [==============================] - 3s 2ms/step - loss: 0.4800 - acc: 0.7727 - val_loss: 0.4886 - val_acc: 0.7855\n",
            "Epoch 26/50\n",
            "1377/1377 [==============================] - 3s 2ms/step - loss: 0.4743 - acc: 0.7734 - val_loss: 0.5048 - val_acc: 0.7507\n",
            "Epoch 27/50\n",
            "1377/1377 [==============================] - 3s 2ms/step - loss: 0.4769 - acc: 0.7749 - val_loss: 0.5240 - val_acc: 0.7304\n",
            "Epoch 28/50\n",
            "1377/1377 [==============================] - 3s 2ms/step - loss: 0.4725 - acc: 0.7734 - val_loss: 0.5072 - val_acc: 0.7681\n",
            "Epoch 29/50\n",
            "1377/1377 [==============================] - 3s 2ms/step - loss: 0.4723 - acc: 0.7749 - val_loss: 0.5064 - val_acc: 0.7739\n",
            "Epoch 30/50\n",
            "1377/1377 [==============================] - 3s 2ms/step - loss: 0.4711 - acc: 0.7814 - val_loss: 0.4945 - val_acc: 0.7913\n",
            "Epoch 31/50\n",
            "1377/1377 [==============================] - 2s 2ms/step - loss: 0.4684 - acc: 0.7858 - val_loss: 0.4973 - val_acc: 0.7739\n",
            "Epoch 32/50\n",
            "1377/1377 [==============================] - 3s 2ms/step - loss: 0.4692 - acc: 0.7756 - val_loss: 0.5114 - val_acc: 0.7681\n",
            "Epoch 33/50\n",
            "1377/1377 [==============================] - 3s 2ms/step - loss: 0.4633 - acc: 0.7829 - val_loss: 0.5004 - val_acc: 0.7826\n",
            "Epoch 34/50\n",
            "1377/1377 [==============================] - 3s 2ms/step - loss: 0.4631 - acc: 0.7800 - val_loss: 0.5082 - val_acc: 0.7652\n",
            "Epoch 35/50\n",
            "1377/1377 [==============================] - 3s 2ms/step - loss: 0.4593 - acc: 0.7858 - val_loss: 0.5084 - val_acc: 0.7652\n",
            "Epoch 36/50\n",
            "1377/1377 [==============================] - 3s 2ms/step - loss: 0.4632 - acc: 0.7814 - val_loss: 0.4973 - val_acc: 0.7710\n",
            "Epoch 37/50\n",
            "1377/1377 [==============================] - 2s 2ms/step - loss: 0.4584 - acc: 0.7763 - val_loss: 0.5068 - val_acc: 0.7710\n",
            "Epoch 38/50\n",
            "1377/1377 [==============================] - 3s 2ms/step - loss: 0.4572 - acc: 0.7887 - val_loss: 0.5086 - val_acc: 0.7681\n",
            "Epoch 39/50\n",
            "1377/1377 [==============================] - 3s 2ms/step - loss: 0.4548 - acc: 0.7894 - val_loss: 0.5612 - val_acc: 0.7304\n",
            "Epoch 40/50\n",
            "1377/1377 [==============================] - 3s 2ms/step - loss: 0.4548 - acc: 0.7887 - val_loss: 0.5148 - val_acc: 0.7710\n",
            "Epoch 41/50\n",
            "1377/1377 [==============================] - 2s 2ms/step - loss: 0.4511 - acc: 0.7908 - val_loss: 0.5432 - val_acc: 0.7420\n",
            "Epoch 42/50\n",
            "1377/1377 [==============================] - 2s 2ms/step - loss: 0.4547 - acc: 0.7945 - val_loss: 0.4953 - val_acc: 0.7710\n",
            "Epoch 43/50\n",
            "1377/1377 [==============================] - 2s 2ms/step - loss: 0.4485 - acc: 0.7930 - val_loss: 0.5276 - val_acc: 0.7507\n",
            "Epoch 44/50\n",
            "1377/1377 [==============================] - 3s 2ms/step - loss: 0.4450 - acc: 0.8032 - val_loss: 0.4993 - val_acc: 0.7681\n",
            "Epoch 45/50\n",
            "1377/1377 [==============================] - 2s 2ms/step - loss: 0.4479 - acc: 0.7996 - val_loss: 0.5090 - val_acc: 0.7623\n",
            "Epoch 46/50\n",
            "1377/1377 [==============================] - 3s 2ms/step - loss: 0.4437 - acc: 0.7908 - val_loss: 0.5109 - val_acc: 0.7478\n",
            "Epoch 47/50\n",
            "1377/1377 [==============================] - 3s 2ms/step - loss: 0.4451 - acc: 0.7959 - val_loss: 0.5150 - val_acc: 0.7565\n",
            "Epoch 48/50\n",
            "1377/1377 [==============================] - 3s 2ms/step - loss: 0.4373 - acc: 0.8090 - val_loss: 0.5152 - val_acc: 0.7594\n",
            "Epoch 49/50\n",
            "1377/1377 [==============================] - 2s 2ms/step - loss: 0.4450 - acc: 0.8076 - val_loss: 0.5100 - val_acc: 0.7681\n",
            "Epoch 50/50\n",
            "1377/1377 [==============================] - 3s 2ms/step - loss: 0.4367 - acc: 0.8097 - val_loss: 0.5799 - val_acc: 0.7304\n"
          ],
          "name": "stdout"
        }
      ]
    },
    {
      "cell_type": "markdown",
      "metadata": {
        "id": "NB5-A1-EttIo",
        "colab_type": "text"
      },
      "source": [
        "Draw curves of accuracy and loss..."
      ]
    },
    {
      "cell_type": "code",
      "metadata": {
        "id": "H-eICgBtMTmN",
        "colab_type": "code",
        "outputId": "8a10e870-f183-4404-f38b-45782ef80c0d",
        "colab": {
          "base_uri": "https://localhost:8080/",
          "height": 545
        }
      },
      "source": [
        "import matplotlib.pyplot as plt\n",
        "\n",
        "acc = history.history['acc']\n",
        "val_acc = history.history['val_acc']\n",
        "loss = history.history['loss']\n",
        "val_loss = history.history['val_loss']\n",
        "\n",
        "epochs = range(1, len(acc) + 1)\n",
        "\n",
        "plt.plot(epochs, acc, 'bo', label='Training acc')\n",
        "plt.plot(epochs, val_acc, 'b', label='Validation acc')\n",
        "plt.title('Training and validation accuracy')\n",
        "plt.legend()\n",
        "\n",
        "plt.figure()\n",
        "\n",
        "plt.plot(epochs, loss, 'bo', label='Training loss')\n",
        "plt.plot(epochs, val_loss, 'b', label='Validation loss')\n",
        "plt.title('Training and validation loss')\n",
        "plt.legend()\n",
        "\n",
        "plt.show()"
      ],
      "execution_count": 0,
      "outputs": [
        {
          "output_type": "display_data",
          "data": {
            "image/png": "[encoded data removed]",
            "text/plain": [
              "<Figure size 432x288 with 1 Axes>"
            ]
          },
          "metadata": {
            "tags": []
          }
        },
        {
          "output_type": "display_data",
          "data": {
            "image/png": "[encoded data removed]",
            "text/plain": [
              "<Figure size 432x288 with 1 Axes>"
            ]
          },
          "metadata": {
            "tags": []
          }
        }
      ]
    },
    {
      "cell_type": "markdown",
      "metadata": {
        "id": "Kylk7G2UuEMf",
        "colab_type": "text"
      },
      "source": [
        "Bring down complexity of the model (dropout)"
      ]
    },
    {
      "cell_type": "code",
      "metadata": {
        "id": "KeOWIKXlXAns",
        "colab_type": "code",
        "outputId": "e7c9264d-451e-4244-fc1f-836a88281f0d",
        "colab": {
          "base_uri": "https://localhost:8080/",
          "height": 122
        }
      },
      "source": [
        "from keras.models import Sequential\n",
        "from keras.layers import Embedding, Flatten, Dense, LSTM\n",
        "\n",
        "units = 32\n",
        "\n",
        "model = Sequential()\n",
        "model.add(Embedding(num_events, embedding_dim))\n",
        "model.add(LSTM(units, dropout=0.2, recurrent_dropout=0.2))\n",
        "model.add(Dense(1, activation='sigmoid'))"
      ],
      "execution_count": 0,
      "outputs": [
        {
          "output_type": "stream",
          "text": [
            "WARNING:tensorflow:From /usr/local/lib/python3.6/dist-packages/keras/backend/tensorflow_backend.py:148: The name tf.placeholder_with_default is deprecated. Please use tf.compat.v1.placeholder_with_default instead.\n",
            "\n",
            "WARNING:tensorflow:From /usr/local/lib/python3.6/dist-packages/keras/backend/tensorflow_backend.py:3733: calling dropout (from tensorflow.python.ops.nn_ops) with keep_prob is deprecated and will be removed in a future version.\n",
            "Instructions for updating:\n",
            "Please use `rate` instead of `keep_prob`. Rate should be set to `rate = 1 - keep_prob`.\n"
          ],
          "name": "stdout"
        }
      ]
    },
    {
      "cell_type": "markdown",
      "metadata": {
        "id": "dsw0lp4cuaUu",
        "colab_type": "text"
      },
      "source": [
        "Keep parameter trainable to true:"
      ]
    },
    {
      "cell_type": "code",
      "metadata": {
        "id": "f4DkGAnpL5Y7",
        "colab_type": "code",
        "colab": {}
      },
      "source": [
        "model.layers[0].set_weights([embedding_matrix])\n",
        "model.layers[0].trainable = True"
      ],
      "execution_count": 0,
      "outputs": []
    },
    {
      "cell_type": "markdown",
      "metadata": {
        "id": "lY5jwDb5ufBU",
        "colab_type": "text"
      },
      "source": [
        "Run training:"
      ]
    },
    {
      "cell_type": "code",
      "metadata": {
        "id": "e5qtVwUrL6zN",
        "colab_type": "code",
        "outputId": "2a108efc-d548-4a54-ff05-664ee43dfb7c",
        "colab": {
          "base_uri": "https://localhost:8080/",
          "height": 1000
        }
      },
      "source": [
        "model.compile(optimizer='rmsprop',\n",
        "              loss='binary_crossentropy',\n",
        "              metrics=['acc'])\n",
        "history = model.fit(X_train, y_train,\n",
        "                    epochs=50,\n",
        "                    batch_size=32,\n",
        "                    validation_data=(X_valid, y_valid))\n",
        "model.save(\"mymodel_embedding_trainable_with_dropout.h5\")"
      ],
      "execution_count": 0,
      "outputs": [
        {
          "output_type": "stream",
          "text": [
            "Train on 1377 samples, validate on 345 samples\n",
            "Epoch 1/50\n",
            "1377/1377 [==============================] - 5s 3ms/step - loss: 0.6757 - acc: 0.5824 - val_loss: 0.6603 - val_acc: 0.5652\n",
            "Epoch 2/50\n",
            "1377/1377 [==============================] - 3s 2ms/step - loss: 0.6461 - acc: 0.6289 - val_loss: 0.6386 - val_acc: 0.6812\n",
            "Epoch 3/50\n",
            "1377/1377 [==============================] - 3s 2ms/step - loss: 0.6401 - acc: 0.6383 - val_loss: 0.6362 - val_acc: 0.6319\n",
            "Epoch 4/50\n",
            "1377/1377 [==============================] - 3s 2ms/step - loss: 0.6232 - acc: 0.6536 - val_loss: 0.6519 - val_acc: 0.6029\n",
            "Epoch 5/50\n",
            "1377/1377 [==============================] - 3s 2ms/step - loss: 0.6067 - acc: 0.6768 - val_loss: 0.6209 - val_acc: 0.6348\n",
            "Epoch 6/50\n",
            "1377/1377 [==============================] - 3s 2ms/step - loss: 0.5986 - acc: 0.6812 - val_loss: 0.5978 - val_acc: 0.6609\n",
            "Epoch 7/50\n",
            "1377/1377 [==============================] - 3s 2ms/step - loss: 0.5877 - acc: 0.6979 - val_loss: 0.5955 - val_acc: 0.6609\n",
            "Epoch 8/50\n",
            "1377/1377 [==============================] - 3s 2ms/step - loss: 0.5836 - acc: 0.6972 - val_loss: 0.5734 - val_acc: 0.7159\n",
            "Epoch 9/50\n",
            "1377/1377 [==============================] - 3s 2ms/step - loss: 0.5796 - acc: 0.6855 - val_loss: 0.5766 - val_acc: 0.6812\n",
            "Epoch 10/50\n",
            "1377/1377 [==============================] - 3s 2ms/step - loss: 0.5640 - acc: 0.7073 - val_loss: 0.5655 - val_acc: 0.6870\n",
            "Epoch 11/50\n",
            "1377/1377 [==============================] - 3s 2ms/step - loss: 0.5579 - acc: 0.7240 - val_loss: 0.5563 - val_acc: 0.7362\n",
            "Epoch 12/50\n",
            "1377/1377 [==============================] - 3s 2ms/step - loss: 0.5574 - acc: 0.7153 - val_loss: 0.5784 - val_acc: 0.6870\n",
            "Epoch 13/50\n",
            "1377/1377 [==============================] - 3s 2ms/step - loss: 0.5446 - acc: 0.7197 - val_loss: 0.5621 - val_acc: 0.7159\n",
            "Epoch 14/50\n",
            "1377/1377 [==============================] - 3s 2ms/step - loss: 0.5407 - acc: 0.7190 - val_loss: 0.5410 - val_acc: 0.7043\n",
            "Epoch 15/50\n",
            "1377/1377 [==============================] - 3s 2ms/step - loss: 0.5443 - acc: 0.7175 - val_loss: 0.5402 - val_acc: 0.7043\n",
            "Epoch 16/50\n",
            "1377/1377 [==============================] - 3s 2ms/step - loss: 0.5334 - acc: 0.7269 - val_loss: 0.5360 - val_acc: 0.7159\n",
            "Epoch 17/50\n",
            "1377/1377 [==============================] - 3s 2ms/step - loss: 0.5291 - acc: 0.7320 - val_loss: 0.5454 - val_acc: 0.7072\n",
            "Epoch 18/50\n",
            "1377/1377 [==============================] - 3s 2ms/step - loss: 0.5401 - acc: 0.7197 - val_loss: 0.5213 - val_acc: 0.7304\n",
            "Epoch 19/50\n",
            "1377/1377 [==============================] - 3s 2ms/step - loss: 0.5326 - acc: 0.7306 - val_loss: 0.5346 - val_acc: 0.7188\n",
            "Epoch 20/50\n",
            "1377/1377 [==============================] - 3s 2ms/step - loss: 0.5220 - acc: 0.7429 - val_loss: 0.5204 - val_acc: 0.7333\n",
            "Epoch 21/50\n",
            "1377/1377 [==============================] - 3s 2ms/step - loss: 0.5293 - acc: 0.7429 - val_loss: 0.5307 - val_acc: 0.7246\n",
            "Epoch 22/50\n",
            "1377/1377 [==============================] - 3s 2ms/step - loss: 0.5219 - acc: 0.7306 - val_loss: 0.5199 - val_acc: 0.7304\n",
            "Epoch 23/50\n",
            "1377/1377 [==============================] - 3s 2ms/step - loss: 0.5211 - acc: 0.7357 - val_loss: 0.5125 - val_acc: 0.7420\n",
            "Epoch 24/50\n",
            "1377/1377 [==============================] - 3s 2ms/step - loss: 0.5183 - acc: 0.7422 - val_loss: 0.5075 - val_acc: 0.7507\n",
            "Epoch 25/50\n",
            "1377/1377 [==============================] - 3s 2ms/step - loss: 0.5148 - acc: 0.7458 - val_loss: 0.5179 - val_acc: 0.7304\n",
            "Epoch 26/50\n",
            "1377/1377 [==============================] - 3s 2ms/step - loss: 0.5237 - acc: 0.7378 - val_loss: 0.5097 - val_acc: 0.7449\n",
            "Epoch 27/50\n",
            "1377/1377 [==============================] - 3s 2ms/step - loss: 0.5174 - acc: 0.7364 - val_loss: 0.5087 - val_acc: 0.7623\n",
            "Epoch 28/50\n",
            "1377/1377 [==============================] - 3s 2ms/step - loss: 0.5094 - acc: 0.7495 - val_loss: 0.5128 - val_acc: 0.7594\n",
            "Epoch 29/50\n",
            "1377/1377 [==============================] - 3s 2ms/step - loss: 0.5075 - acc: 0.7531 - val_loss: 0.5122 - val_acc: 0.7478\n",
            "Epoch 30/50\n",
            "1377/1377 [==============================] - 3s 2ms/step - loss: 0.5082 - acc: 0.7473 - val_loss: 0.5001 - val_acc: 0.7478\n",
            "Epoch 31/50\n",
            "1377/1377 [==============================] - 3s 2ms/step - loss: 0.5041 - acc: 0.7509 - val_loss: 0.4992 - val_acc: 0.7594\n",
            "Epoch 32/50\n",
            "1377/1377 [==============================] - 3s 2ms/step - loss: 0.5022 - acc: 0.7574 - val_loss: 0.5029 - val_acc: 0.7594\n",
            "Epoch 33/50\n",
            "1377/1377 [==============================] - 3s 2ms/step - loss: 0.4992 - acc: 0.7567 - val_loss: 0.5050 - val_acc: 0.7565\n",
            "Epoch 34/50\n",
            "1377/1377 [==============================] - 3s 2ms/step - loss: 0.4896 - acc: 0.7582 - val_loss: 0.5066 - val_acc: 0.7449\n",
            "Epoch 35/50\n",
            "1377/1377 [==============================] - 3s 2ms/step - loss: 0.4995 - acc: 0.7625 - val_loss: 0.5062 - val_acc: 0.7536\n",
            "Epoch 36/50\n",
            "1377/1377 [==============================] - 3s 2ms/step - loss: 0.5028 - acc: 0.7676 - val_loss: 0.4994 - val_acc: 0.7623\n",
            "Epoch 37/50\n",
            "1377/1377 [==============================] - 3s 2ms/step - loss: 0.4988 - acc: 0.7545 - val_loss: 0.5100 - val_acc: 0.7275\n",
            "Epoch 38/50\n",
            "1377/1377 [==============================] - 3s 2ms/step - loss: 0.4980 - acc: 0.7618 - val_loss: 0.5015 - val_acc: 0.7652\n",
            "Epoch 39/50\n",
            "1377/1377 [==============================] - 3s 2ms/step - loss: 0.5023 - acc: 0.7567 - val_loss: 0.5027 - val_acc: 0.7681\n",
            "Epoch 40/50\n",
            "1377/1377 [==============================] - 3s 2ms/step - loss: 0.5006 - acc: 0.7466 - val_loss: 0.4979 - val_acc: 0.7710\n",
            "Epoch 41/50\n",
            "1377/1377 [==============================] - 3s 2ms/step - loss: 0.5001 - acc: 0.7589 - val_loss: 0.5025 - val_acc: 0.7594\n",
            "Epoch 42/50\n",
            "1377/1377 [==============================] - 3s 2ms/step - loss: 0.4893 - acc: 0.7698 - val_loss: 0.5017 - val_acc: 0.7681\n",
            "Epoch 43/50\n",
            "1377/1377 [==============================] - 3s 2ms/step - loss: 0.4907 - acc: 0.7647 - val_loss: 0.5122 - val_acc: 0.7449\n",
            "Epoch 44/50\n",
            "1377/1377 [==============================] - 3s 2ms/step - loss: 0.4836 - acc: 0.7691 - val_loss: 0.4927 - val_acc: 0.7681\n",
            "Epoch 45/50\n",
            "1377/1377 [==============================] - 3s 2ms/step - loss: 0.4937 - acc: 0.7647 - val_loss: 0.4974 - val_acc: 0.7623\n",
            "Epoch 46/50\n",
            "1377/1377 [==============================] - 3s 2ms/step - loss: 0.4883 - acc: 0.7640 - val_loss: 0.5039 - val_acc: 0.7594\n",
            "Epoch 47/50\n",
            "1377/1377 [==============================] - 3s 2ms/step - loss: 0.4919 - acc: 0.7611 - val_loss: 0.5043 - val_acc: 0.7594\n",
            "Epoch 48/50\n",
            "1377/1377 [==============================] - 3s 2ms/step - loss: 0.4909 - acc: 0.7589 - val_loss: 0.4987 - val_acc: 0.7826\n",
            "Epoch 49/50\n",
            "1377/1377 [==============================] - 3s 2ms/step - loss: 0.4850 - acc: 0.7712 - val_loss: 0.4998 - val_acc: 0.7594\n",
            "Epoch 50/50\n",
            "1377/1377 [==============================] - 3s 2ms/step - loss: 0.4877 - acc: 0.7625 - val_loss: 0.4989 - val_acc: 0.7681\n"
          ],
          "name": "stdout"
        }
      ]
    },
    {
      "cell_type": "markdown",
      "metadata": {
        "id": "9L5fKGequn_o",
        "colab_type": "text"
      },
      "source": [
        "Display visualization:"
      ]
    },
    {
      "cell_type": "code",
      "metadata": {
        "id": "YNZfbHF7L8w4",
        "colab_type": "code",
        "outputId": "4d42ec03-c027-40a8-9d65-2f81f2d44ea4",
        "colab": {
          "base_uri": "https://localhost:8080/",
          "height": 545
        }
      },
      "source": [
        "import matplotlib.pyplot as plt\n",
        "\n",
        "acc = history.history['acc']\n",
        "val_acc = history.history['val_acc']\n",
        "loss = history.history['loss']\n",
        "val_loss = history.history['val_loss']\n",
        "\n",
        "epochs = range(1, len(acc) + 1)\n",
        "\n",
        "plt.plot(epochs, acc, 'bo', label='Training acc')\n",
        "plt.plot(epochs, val_acc, 'b', label='Validation acc')\n",
        "plt.title('Training and validation accuracy')\n",
        "plt.legend()\n",
        "\n",
        "plt.figure()\n",
        "\n",
        "plt.plot(epochs, loss, 'bo', label='Training loss')\n",
        "plt.plot(epochs, val_loss, 'b', label='Validation loss')\n",
        "plt.title('Training and validation loss')\n",
        "plt.legend()\n",
        "\n",
        "plt.show()"
      ],
      "execution_count": 0,
      "outputs": [
        {
          "output_type": "display_data",
          "data": {
            "image/png": "[encoded data removed]",
            "text/plain": [
              "<Figure size 432x288 with 1 Axes>"
            ]
          },
          "metadata": {
            "tags": []
          }
        },
        {
          "output_type": "display_data",
          "data": {
            "image/png": "[encoded data removed]",
            "text/plain": [
              "<Figure size 432x288 with 1 Axes>"
            ]
          },
          "metadata": {
            "tags": []
          }
        }
      ]
    },
    {
      "cell_type": "code",
      "metadata": {
        "id": "A2gnJytlETV4",
        "colab_type": "code",
        "colab": {}
      },
      "source": [
        ""
      ],
      "execution_count": 0,
      "outputs": []
    }
  ]
}